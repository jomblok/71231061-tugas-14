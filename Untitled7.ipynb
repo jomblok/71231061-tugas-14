{
  "nbformat": 4,
  "nbformat_minor": 0,
  "metadata": {
    "colab": {
      "provenance": []
    },
    "kernelspec": {
      "name": "python3",
      "display_name": "Python 3"
    },
    "language_info": {
      "name": "python"
    }
  },
  "cells": [
    {
      "cell_type": "markdown",
      "source": [
        "soal 1"
      ],
      "metadata": {
        "id": "jOfuNPZlTMVz"
      }
    },
    {
      "cell_type": "code",
      "source": [
        "import re\n",
        "from datetime import datetime as dt\n",
        "\n",
        "def hitung_selisih_tanggal(file_path):\n",
        "    try:\n",
        "        with open(file_path) as file:\n",
        "            for line in file:\n",
        "                for tanggal in re.findall(r'\\b\\d{4}-\\d{2}-\\d{2}\\b', line):\n",
        "                    try:\n",
        "                        tgl = dt.strptime(tanggal, '%Y-%m-%d')\n",
        "                        print(f\"{tgl.strftime('%d-%m-%Y')} selisih {(dt.now() - tgl).days} hari\")\n",
        "                    except ValueError:\n",
        "                        print(f\"Format tanggal tidak valid: {tanggal}\")\n",
        "    except FileNotFoundError:\n",
        "        print(\"File tidak ditemukan.\")\n",
        "\n",
        "\n",
        "file_path = input(\"Masukkan path file teks: \")\n",
        "hitung_selisih_tanggal(file_path)"
      ],
      "metadata": {
        "colab": {
          "base_uri": "https://localhost:8080/"
        },
        "id": "5WIuAUfITNje",
        "outputId": "54feb47d-7e75-42b2-dfe3-23db3cdc0a0c"
      },
      "execution_count": 1,
      "outputs": [
        {
          "output_type": "stream",
          "name": "stdout",
          "text": [
            "Masukkan path file teks: regex.txt\n",
            "10-07-2024 selisih -34 hari\n",
            "15-09-2024 selisih -101 hari\n",
            "20-11-2024 selisih -167 hari\n"
          ]
        }
      ]
    },
    {
      "cell_type": "markdown",
      "source": [
        "soal 2"
      ],
      "metadata": {
        "id": "tokWFNuSTR0U"
      }
    },
    {
      "cell_type": "code",
      "source": [
        "import re\n",
        "import random\n",
        "import string\n",
        "\n",
        "with open('regex2.txt', 'r') as file:\n",
        "    file_content = file.read()\n",
        "\n",
        "email_username_pattern = re.compile(r'(\\S+@\\S+)\\s+dimiliki oleh\\s+(\\S+)')\n",
        "\n",
        "email_username_list = re.findall(email_username_pattern, file_content)\n",
        "\n",
        "for email, username in email_username_list:\n",
        "    password = ''.join(random.choices(string.ascii_letters + string.digits, k=8))\n",
        "    print(f\"{email} , Pengguna: {username} , Kata Sandi: {password}\")\n"
      ],
      "metadata": {
        "colab": {
          "base_uri": "https://localhost:8080/"
        },
        "id": "N39Z79ZXTUgX",
        "outputId": "b828def8-66e0-4915-bb9e-3edadf6c57e2"
      },
      "execution_count": 3,
      "outputs": [
        {
          "output_type": "stream",
          "name": "stdout",
          "text": [
            "anton@mail.com , Pengguna: antonius , Kata Sandi: v3DBiX0S\n",
            "budi@gmail.co.id , Pengguna: budi , Kata Sandi: 7DvuCCvu\n",
            "slamet@getnada.com , Pengguna: slamet , Kata Sandi: xltF2Qa3\n",
            "matahari@tokopedia.com , Pengguna: toko , Kata Sandi: HEvpdX8y\n"
          ]
        }
      ]
    }
  ]
}